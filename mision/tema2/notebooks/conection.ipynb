{
 "cells": [
  {
   "cell_type": "code",
   "execution_count": 9,
   "metadata": {},
   "outputs": [],
   "source": [
    "from dotenv import load_dotenv\n",
    "import os\n",
    "# Connection to the database\n",
    "import pyodbc as pyodbc\n",
    "import pandas as pd\n"
   ]
  },
  {
   "cell_type": "code",
   "execution_count": null,
   "metadata": {},
   "outputs": [],
   "source": [
    "load_dotenv('.env')\n",
    "# Configura tu conexión\n",
    "server = 'localhost'\n",
    "database = 'data_analysis'\n",
    "username = 'sa' \n",
    "password = 'Anarchy_1729' \n",
    "driver = 'ODBC Driver 17 for SQL Server'"
   ]
  },
  {
   "cell_type": "code",
   "execution_count": 24,
   "metadata": {},
   "outputs": [
    {
     "name": "stdout",
     "output_type": "stream",
     "text": [
      "Successfully connected to the database\n"
     ]
    }
   ],
   "source": [
    "try:\n",
    "    connection_string = f'DRIVER={driver};SERVER={server};DATABASE={database};UID={username};PWD={password}'\n",
    "    conn = pyodbc.connect(connection_string)\n",
    "    conn.autocommit = True\n",
    "     # create a cursor object\n",
    "    cursor = conn.cursor()\n",
    "    print('Successfully connected to the database')\n",
    "   \n",
    "except pyodbc.Error as err:\n",
    "    print(err)"
   ]
  },
  {
   "cell_type": "code",
   "execution_count": null,
   "metadata": {},
   "outputs": [
    {
     "name": "stdout",
     "output_type": "stream",
     "text": [
      "Table created successfully\n"
     ]
    }
   ],
   "source": [
    "create_table_query = \"\"\"\n",
    "    CREATE TABLE products (\n",
    "        id INT PRIMARY KEY,\n",
    "        name VARCHAR(100) NOT NULL,\n",
    "        price REAL NOT NULL\n",
    "    )\n",
    "\"\"\"\n",
    "\n",
    "try:\n",
    "    cursor.execute(create_table_query)\n",
    "    conn.commit()  # Asegúrate de confirmar los cambios\n",
    "    print(\"Table created successfully\")\n",
    "except pyodbc.Error as err:\n",
    "    print(err)"
   ]
  },
  {
   "cell_type": "code",
   "execution_count": null,
   "metadata": {},
   "outputs": [],
   "source": [
    "insert_data_query = \"\"\"\n",
    "                INSERT INTO products (\n",
    "                    id,\n",
    "                    name,\n",
    "                    price\n",
    "                )\n",
    "                VALUES\n",
    "                    (1, 'Portatil Acer 125', 3200000),\n",
    "                    (2, 'Portatil Azus X28', 3400233),\n",
    "                    (3, 'Portatil Acer 254', 1568742),\n",
    "                    (4, 'Portatil HP L587', 2564789),\n",
    "                    (5, 'MacBook 15PRO', 2500000),\n",
    "                    (6, 'MacBook 16XT', 3859786),\n",
    "                    (7, 'Impresora Canon 1245', 897520),\n",
    "                    (8, 'Multifuncional Canon 1678', 1564230),\n",
    "                    (9, 'Multifuncional Canon 4126', 2864250),\n",
    "                    (10, 'Multifuncional Canon 1125', 1416000),\n",
    "                    (11, 'PORTATIL ASUS VIVOBOOK X1504ZA NJ373', 8423700),\n",
    "                    (12, 'GIGABYTE G6X 9KG 2024CORE i7', 5478222),\n",
    "                    (13, 'LENOVO IP 3 14ALC6RYZ 3', 3584875),\n",
    "                    (14, 'LENOVO IDEAPAD 1 15ALC7RYZ 5', 8423700),\n",
    "                    (15, 'MSI THIN 15 B12UCX 2280XCO CORE i7', 12916210),\n",
    "                    (16, 'ASUS VIVOBOOK', 5423700),\n",
    "                    (17, 'HP14 DQ5016LACORE i5', 6918700),\n",
    "                    (18, 'HP 15 DY5008LACORE i7', 3423700),\n",
    "                    (19, 'MSI THIN 15 B12UCX 2280XCO CORE i7', 8228700),\n",
    "                    (20, 'GIGABYTE G6X 9KG 2024 CORE i7', 4423700);\n",
    "                \"\"\"\n",
    "\n",
    "try:\n",
    "    cursor.execute(insert_data_query)\n",
    "    conn.commit()  # Save the changes to the database, is important for the correct functioning of the data server\n",
    "\n",
    "except pyodbc.Error as err:\n",
    "    print(err)"
   ]
  },
  {
   "cell_type": "code",
   "execution_count": 25,
   "metadata": {},
   "outputs": [
    {
     "data": {
      "text/html": [
       "<div>\n",
       "<style scoped>\n",
       "    .dataframe tbody tr th:only-of-type {\n",
       "        vertical-align: middle;\n",
       "    }\n",
       "\n",
       "    .dataframe tbody tr th {\n",
       "        vertical-align: top;\n",
       "    }\n",
       "\n",
       "    .dataframe thead th {\n",
       "        text-align: right;\n",
       "    }\n",
       "</style>\n",
       "<table border=\"1\" class=\"dataframe\">\n",
       "  <thead>\n",
       "    <tr style=\"text-align: right;\">\n",
       "      <th></th>\n",
       "      <th>id</th>\n",
       "      <th>name</th>\n",
       "      <th>price</th>\n",
       "    </tr>\n",
       "  </thead>\n",
       "  <tbody>\n",
       "    <tr>\n",
       "      <th>0</th>\n",
       "      <td>1</td>\n",
       "      <td>Portatil Acer 125</td>\n",
       "      <td>3200000.0</td>\n",
       "    </tr>\n",
       "    <tr>\n",
       "      <th>1</th>\n",
       "      <td>2</td>\n",
       "      <td>Portatil Azus X28</td>\n",
       "      <td>3400233.0</td>\n",
       "    </tr>\n",
       "    <tr>\n",
       "      <th>2</th>\n",
       "      <td>3</td>\n",
       "      <td>Portatil Acer 254</td>\n",
       "      <td>1568742.0</td>\n",
       "    </tr>\n",
       "    <tr>\n",
       "      <th>3</th>\n",
       "      <td>4</td>\n",
       "      <td>Portatil HP L587</td>\n",
       "      <td>2564789.0</td>\n",
       "    </tr>\n",
       "    <tr>\n",
       "      <th>4</th>\n",
       "      <td>5</td>\n",
       "      <td>MacBook 15PRO</td>\n",
       "      <td>2500000.0</td>\n",
       "    </tr>\n",
       "    <tr>\n",
       "      <th>5</th>\n",
       "      <td>6</td>\n",
       "      <td>MacBook 16XT</td>\n",
       "      <td>3859786.0</td>\n",
       "    </tr>\n",
       "    <tr>\n",
       "      <th>6</th>\n",
       "      <td>7</td>\n",
       "      <td>Impresora Canon 1245</td>\n",
       "      <td>897520.0</td>\n",
       "    </tr>\n",
       "    <tr>\n",
       "      <th>7</th>\n",
       "      <td>8</td>\n",
       "      <td>Multifuncional Canon 1678</td>\n",
       "      <td>1564230.0</td>\n",
       "    </tr>\n",
       "    <tr>\n",
       "      <th>8</th>\n",
       "      <td>9</td>\n",
       "      <td>Multifuncional Canon 4126</td>\n",
       "      <td>2864250.0</td>\n",
       "    </tr>\n",
       "    <tr>\n",
       "      <th>9</th>\n",
       "      <td>10</td>\n",
       "      <td>Multifuncional Canon 1125</td>\n",
       "      <td>1416000.0</td>\n",
       "    </tr>\n",
       "    <tr>\n",
       "      <th>10</th>\n",
       "      <td>11</td>\n",
       "      <td>PORTATIL ASUS VIVOBOOK X1504ZA NJ373</td>\n",
       "      <td>8423700.0</td>\n",
       "    </tr>\n",
       "    <tr>\n",
       "      <th>11</th>\n",
       "      <td>12</td>\n",
       "      <td>GIGABYTE G6X 9KG 2024CORE i7</td>\n",
       "      <td>5478222.0</td>\n",
       "    </tr>\n",
       "    <tr>\n",
       "      <th>12</th>\n",
       "      <td>13</td>\n",
       "      <td>LENOVO IP 3 14ALC6RYZ 3</td>\n",
       "      <td>3584875.0</td>\n",
       "    </tr>\n",
       "    <tr>\n",
       "      <th>13</th>\n",
       "      <td>14</td>\n",
       "      <td>LENOVO IDEAPAD 1 15ALC7RYZ 5</td>\n",
       "      <td>8423700.0</td>\n",
       "    </tr>\n",
       "    <tr>\n",
       "      <th>14</th>\n",
       "      <td>15</td>\n",
       "      <td>MSI THIN 15 B12UCX 2280XCO CORE i7</td>\n",
       "      <td>12916210.0</td>\n",
       "    </tr>\n",
       "    <tr>\n",
       "      <th>15</th>\n",
       "      <td>16</td>\n",
       "      <td>ASUS VIVOBOOK</td>\n",
       "      <td>5423700.0</td>\n",
       "    </tr>\n",
       "    <tr>\n",
       "      <th>16</th>\n",
       "      <td>17</td>\n",
       "      <td>HP14 DQ5016LACORE i5</td>\n",
       "      <td>6918700.0</td>\n",
       "    </tr>\n",
       "    <tr>\n",
       "      <th>17</th>\n",
       "      <td>18</td>\n",
       "      <td>HP 15 DY5008LACORE i7</td>\n",
       "      <td>3423700.0</td>\n",
       "    </tr>\n",
       "    <tr>\n",
       "      <th>18</th>\n",
       "      <td>19</td>\n",
       "      <td>MSI THIN 15 B12UCX 2280XCO CORE i7</td>\n",
       "      <td>8228700.0</td>\n",
       "    </tr>\n",
       "    <tr>\n",
       "      <th>19</th>\n",
       "      <td>20</td>\n",
       "      <td>GIGABYTE G6X 9KG 2024 CORE i7</td>\n",
       "      <td>4423700.0</td>\n",
       "    </tr>\n",
       "  </tbody>\n",
       "</table>\n",
       "</div>"
      ],
      "text/plain": [
       "    id                                  name       price\n",
       "0    1                     Portatil Acer 125   3200000.0\n",
       "1    2                     Portatil Azus X28   3400233.0\n",
       "2    3                     Portatil Acer 254   1568742.0\n",
       "3    4                      Portatil HP L587   2564789.0\n",
       "4    5                         MacBook 15PRO   2500000.0\n",
       "5    6                          MacBook 16XT   3859786.0\n",
       "6    7                  Impresora Canon 1245    897520.0\n",
       "7    8             Multifuncional Canon 1678   1564230.0\n",
       "8    9             Multifuncional Canon 4126   2864250.0\n",
       "9   10             Multifuncional Canon 1125   1416000.0\n",
       "10  11  PORTATIL ASUS VIVOBOOK X1504ZA NJ373   8423700.0\n",
       "11  12          GIGABYTE G6X 9KG 2024CORE i7   5478222.0\n",
       "12  13               LENOVO IP 3 14ALC6RYZ 3   3584875.0\n",
       "13  14          LENOVO IDEAPAD 1 15ALC7RYZ 5   8423700.0\n",
       "14  15    MSI THIN 15 B12UCX 2280XCO CORE i7  12916210.0\n",
       "15  16                         ASUS VIVOBOOK   5423700.0\n",
       "16  17                  HP14 DQ5016LACORE i5   6918700.0\n",
       "17  18                 HP 15 DY5008LACORE i7   3423700.0\n",
       "18  19    MSI THIN 15 B12UCX 2280XCO CORE i7   8228700.0\n",
       "19  20         GIGABYTE G6X 9KG 2024 CORE i7   4423700.0"
      ]
     },
     "execution_count": 25,
     "metadata": {},
     "output_type": "execute_result"
    }
   ],
   "source": [
    "try:\n",
    "    cursor.execute(\"SELECT * FROM products\")\n",
    "    rows = cursor.fetchall()\n",
    "    \n",
    "    columns = [decs[0] for decs in cursor.description]\n",
    "    rows = [[float(value) if isinstance(value, float) else value for value in row] for row in rows]\n",
    "    df = pd.DataFrame(rows, columns=columns)\n",
    "\n",
    "except pyodbc.Error as err:\n",
    "    print(err)\n",
    "\n",
    "df"
   ]
  },
  {
   "cell_type": "markdown",
   "metadata": {},
   "source": [
    "## Create Catalog"
   ]
  },
  {
   "cell_type": "code",
   "execution_count": 26,
   "metadata": {},
   "outputs": [
    {
     "name": "stdout",
     "output_type": "stream",
     "text": [
      "Catálogo creado con éxito\n"
     ]
    }
   ],
   "source": [
    "create_catalog_query = \"CREATE FULLTEXT CATALOG catalago_productos AS DEFAULT\"\n",
    "\n",
    "try:\n",
    "    cursor.execute(create_catalog_query)\n",
    "    print(\"Catálogo creado con éxito\")\n",
    "except Exception as e:\n",
    "    print(f\"Error en el Query: {e}\")\n"
   ]
  },
  {
   "cell_type": "code",
   "execution_count": 33,
   "metadata": {},
   "outputs": [
    {
     "name": "stdout",
     "output_type": "stream",
     "text": [
      "Índice FTS creado con éxito\n"
     ]
    }
   ],
   "source": [
    "create_index_query = \"\"\"\n",
    "                    CREATE FULLTEXT INDEX ON products (name)\n",
    "                    KEY INDEX PK__products__3213E83F8DBF8904\n",
    "                    WITH STOPLIST = SYSTEM;                 \n",
    "                    \"\"\"\n",
    "\n",
    "try:\n",
    "    cursor.execute(create_index_query)\n",
    "    print(\"Índice FTS creado con éxito\")\n",
    "except Exception as e:\n",
    "    print(f\"Error en el índice: {e}\")"
   ]
  }
 ],
 "metadata": {
  "kernelspec": {
   "display_name": ".venv",
   "language": "python",
   "name": "python3"
  },
  "language_info": {
   "codemirror_mode": {
    "name": "ipython",
    "version": 3
   },
   "file_extension": ".py",
   "mimetype": "text/x-python",
   "name": "python",
   "nbconvert_exporter": "python",
   "pygments_lexer": "ipython3",
   "version": "3.12.3"
  }
 },
 "nbformat": 4,
 "nbformat_minor": 2
}
