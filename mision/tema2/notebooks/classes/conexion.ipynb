{
 "cells": [
  {
   "cell_type": "code",
   "execution_count": null,
   "metadata": {},
   "outputs": [],
   "source": []
  },
  {
   "cell_type": "markdown",
   "metadata": {},
   "source": [
    "# CONEXIÓN SQL SERVER"
   ]
  },
  {
   "cell_type": "markdown",
   "metadata": {},
   "source": [
    "## iNSTALADORES"
   ]
  },
  {
   "cell_type": "code",
   "execution_count": null,
   "metadata": {},
   "outputs": [
    {
     "name": "stdout",
     "output_type": "stream",
     "text": [
      "Requirement already satisfied: sqlalchemy in c:\\users\\luis_\\appdata\\local\\programs\\python\\python313\\lib\\site-packages (2.0.36)\n",
      "Requirement already satisfied: typing-extensions>=4.6.0 in c:\\users\\luis_\\appdata\\local\\programs\\python\\python313\\lib\\site-packages (from sqlalchemy) (4.12.2)\n",
      "Note: you may need to restart the kernel to use updated packages.\n"
     ]
    },
    {
     "name": "stderr",
     "output_type": "stream",
     "text": [
      "\n",
      "[notice] A new release of pip is available: 24.2 -> 24.3.1\n",
      "[notice] To update, run: python.exe -m pip install --upgrade pip\n"
     ]
    },
    {
     "name": "stdout",
     "output_type": "stream",
     "text": [
      "Requirement already satisfied: pyodbc in c:\\users\\luis_\\appdata\\local\\programs\\python\\python313\\lib\\site-packages (5.2.0)\n",
      "Note: you may need to restart the kernel to use updated packages.\n"
     ]
    },
    {
     "name": "stderr",
     "output_type": "stream",
     "text": [
      "\n",
      "[notice] A new release of pip is available: 24.2 -> 24.3.1\n",
      "[notice] To update, run: python.exe -m pip install --upgrade pip\n"
     ]
    }
   ],
   "source": [
    "%pip install sqlalchemy\n",
    "%pip install pyodbc\n",
    "%pip install pandas"
   ]
  },
  {
   "cell_type": "markdown",
   "metadata": {},
   "source": [
    "## importaciones"
   ]
  },
  {
   "cell_type": "code",
   "execution_count": 3,
   "metadata": {},
   "outputs": [],
   "source": [
    "import pyodbc\n",
    "import pandas as pd\n",
    "from sqlalchemy import text"
   ]
  },
  {
   "cell_type": "markdown",
   "metadata": {},
   "source": [
    "## Conexión"
   ]
  },
  {
   "cell_type": "code",
   "execution_count": 4,
   "metadata": {},
   "outputs": [
    {
     "name": "stdout",
     "output_type": "stream",
     "text": [
      "Conexión Exitosa!\n"
     ]
    }
   ],
   "source": [
    "server = 'LAPTOP-QL3CR1ON\\\\ANALISIS'\n",
    "database = 'analisis_datos'\n",
    "username = 'sa'\n",
    "password = '12345'\n",
    "driver = 'ODBC Driver 17 for SQL Server'\n",
    "\n",
    "try:\n",
    "    connection_string = f\"DRIVER={driver};SERVER={server};DATABASE={database};UID={username};PWD={password}\"\n",
    "    conn = pyodbc.connect(connection_string)\n",
    "    conn.autocommit = True\n",
    "    cursor = conn.cursor()\n",
    "    print(\"Conexión Exitosa!\")\n",
    "except Exception as e:\n",
    "    print(f\"Error de conexión: {e}\")\n",
    "\n"
   ]
  },
  {
   "cell_type": "markdown",
   "metadata": {},
   "source": [
    "## Creamos la tabla productos"
   ]
  },
  {
   "cell_type": "code",
   "execution_count": 6,
   "metadata": {},
   "outputs": [
    {
     "name": "stdout",
     "output_type": "stream",
     "text": [
      "Error en el Query: ('42S01', \"[42S01] [Microsoft][ODBC Driver 17 for SQL Server][SQL Server]There is already an object named 'productos' in the database. (2714) (SQLExecDirectW)\")\n"
     ]
    }
   ],
   "source": [
    "create_table_query = \"\"\"\n",
    "                    CREATE TABLE productos (\n",
    "                        product_id INT PRIMARY KEY,\n",
    "                        product_name VARCHAR(100) NOT NULL,\n",
    "                        product_price REAL NOT NULL\n",
    "                        );\n",
    "                        \"\"\"\n",
    "try:\n",
    "    cursor.execute(create_table_query)\n",
    "    print(\"Query ejecutado con éxito.\")\n",
    "except Exception as e:\n",
    "    print(f\"Error en el Query: {e}\")"
   ]
  },
  {
   "cell_type": "markdown",
   "metadata": {},
   "source": [
    "## Insertar las filas a la tabla"
   ]
  },
  {
   "cell_type": "code",
   "execution_count": 7,
   "metadata": {},
   "outputs": [
    {
     "name": "stdout",
     "output_type": "stream",
     "text": [
      "Query ejecutado con éxito.\n"
     ]
    }
   ],
   "source": [
    "insert_data_query = \"\"\"\n",
    "                INSERT INTO productos (\n",
    "                    product_id,\n",
    "                    product_name,\n",
    "                    product_price\n",
    "                )\n",
    "                VALUES\n",
    "                    (1, 'Portatil Acer 125', 3200000),\n",
    "                    (2, 'Portatil Azus X28', 3499900),\n",
    "                    (3, 'Portatil Acer 254', 1568742),\n",
    "                    (4, 'Portatil HP L587', 2564789),\n",
    "                    (5, 'MacBook 15PRO', 2500000),\n",
    "                    (6, 'MacBook 16XT', 3859786),\n",
    "                    (7, 'Impresora Canon 1245', 897520),\n",
    "                    (8, 'Multifuncional Canon 1678', 1564230),\n",
    "                    (9, 'Multifuncional Canon 4126', 2864250),\n",
    "                    (10, 'Multifuncional Canon 1125', 1416000),\n",
    "                    (11, 'PORTATIL ASUS VIVOBOOK X1504ZA NJ373', 8423700),\n",
    "                    (12, 'GIGABYTE G6X 9KG 2024CORE i7', 5478222),\n",
    "                    (13, 'LENOVO IP 3 14ALC6RYZ 3', 3584875),\n",
    "                    (14, 'LENOVO IDEAPAD 1 15ALC7RYZ 5', 8423700),\n",
    "                    (15, 'MSI THIN 15 B12UCX 2280XCO CORE i7', 12916210),\n",
    "                    (16, 'ASUS VIVOBOOK', 5423700),\n",
    "                    (17, 'HP14 DQ5016LACORE i5', 6918700),\n",
    "                    (18, 'HP 15 DY5008LACORE i7', 3423700),\n",
    "                    (19, 'MSI THIN 15 B12UCX 2280XCO CORE i7', 8228700),\n",
    "                    (20, 'GIGABYTE G6X 9KG 2024 CORE i7', 4423700);\n",
    "                \"\"\"\n",
    "try:\n",
    "    cursor.execute(insert_data_query)\n",
    "    print(\"Query ejecutado con éxito.\")\n",
    "except Exception as e:\n",
    "    print(f\"Error en el Query: {e}\")\n"
   ]
  },
  {
   "cell_type": "markdown",
   "metadata": {},
   "source": [
    "## Vista de la tabla creada"
   ]
  },
  {
   "cell_type": "markdown",
   "metadata": {},
   "source": [
    "### Forma 1"
   ]
  },
  {
   "cell_type": "code",
   "execution_count": 17,
   "metadata": {},
   "outputs": [
    {
     "name": "stderr",
     "output_type": "stream",
     "text": [
      "C:\\Users\\luis_\\AppData\\Local\\Temp\\ipykernel_15632\\3005540944.py:4: UserWarning: pandas only supports SQLAlchemy connectable (engine/connection) or database string URI or sqlite3 DBAPI2 connection. Other DBAPI2 objects are not tested. Please consider using SQLAlchemy.\n",
      "  result = pd.read_sql(vista_query,conn)\n"
     ]
    },
    {
     "data": {
      "text/html": [
       "<div>\n",
       "<style scoped>\n",
       "    .dataframe tbody tr th:only-of-type {\n",
       "        vertical-align: middle;\n",
       "    }\n",
       "\n",
       "    .dataframe tbody tr th {\n",
       "        vertical-align: top;\n",
       "    }\n",
       "\n",
       "    .dataframe thead th {\n",
       "        text-align: right;\n",
       "    }\n",
       "</style>\n",
       "<table border=\"1\" class=\"dataframe\">\n",
       "  <thead>\n",
       "    <tr style=\"text-align: right;\">\n",
       "      <th></th>\n",
       "      <th>product_id</th>\n",
       "      <th>product_name</th>\n",
       "      <th>product_price</th>\n",
       "    </tr>\n",
       "  </thead>\n",
       "  <tbody>\n",
       "    <tr>\n",
       "      <th>0</th>\n",
       "      <td>1</td>\n",
       "      <td>Portatil Acer 125</td>\n",
       "      <td>3200000.0</td>\n",
       "    </tr>\n",
       "    <tr>\n",
       "      <th>1</th>\n",
       "      <td>2</td>\n",
       "      <td>Portatil Azus X28</td>\n",
       "      <td>3499900.0</td>\n",
       "    </tr>\n",
       "    <tr>\n",
       "      <th>2</th>\n",
       "      <td>3</td>\n",
       "      <td>Portatil Acer 254</td>\n",
       "      <td>1568742.0</td>\n",
       "    </tr>\n",
       "    <tr>\n",
       "      <th>3</th>\n",
       "      <td>4</td>\n",
       "      <td>Portatil HP L587</td>\n",
       "      <td>2564789.0</td>\n",
       "    </tr>\n",
       "    <tr>\n",
       "      <th>4</th>\n",
       "      <td>5</td>\n",
       "      <td>MacBook 15PRO</td>\n",
       "      <td>2500000.0</td>\n",
       "    </tr>\n",
       "    <tr>\n",
       "      <th>5</th>\n",
       "      <td>6</td>\n",
       "      <td>MacBook 16XT</td>\n",
       "      <td>3859786.0</td>\n",
       "    </tr>\n",
       "    <tr>\n",
       "      <th>6</th>\n",
       "      <td>7</td>\n",
       "      <td>Impresora Canon 1245</td>\n",
       "      <td>897520.0</td>\n",
       "    </tr>\n",
       "    <tr>\n",
       "      <th>7</th>\n",
       "      <td>8</td>\n",
       "      <td>Multifuncional Canon 1678</td>\n",
       "      <td>1564230.0</td>\n",
       "    </tr>\n",
       "    <tr>\n",
       "      <th>8</th>\n",
       "      <td>9</td>\n",
       "      <td>Multifuncional Canon 4126</td>\n",
       "      <td>2864250.0</td>\n",
       "    </tr>\n",
       "    <tr>\n",
       "      <th>9</th>\n",
       "      <td>10</td>\n",
       "      <td>Multifuncional Canon 1125</td>\n",
       "      <td>1416000.0</td>\n",
       "    </tr>\n",
       "    <tr>\n",
       "      <th>10</th>\n",
       "      <td>11</td>\n",
       "      <td>PORTATIL ASUS VIVOBOOK X1504ZA NJ373</td>\n",
       "      <td>8423700.0</td>\n",
       "    </tr>\n",
       "    <tr>\n",
       "      <th>11</th>\n",
       "      <td>12</td>\n",
       "      <td>GIGABYTE G6X 9KG 2024CORE i7</td>\n",
       "      <td>5478222.0</td>\n",
       "    </tr>\n",
       "    <tr>\n",
       "      <th>12</th>\n",
       "      <td>13</td>\n",
       "      <td>LENOVO IP 3 14ALC6RYZ 3</td>\n",
       "      <td>3584875.0</td>\n",
       "    </tr>\n",
       "    <tr>\n",
       "      <th>13</th>\n",
       "      <td>14</td>\n",
       "      <td>LENOVO IDEAPAD 1 15ALC7RYZ 5</td>\n",
       "      <td>8423700.0</td>\n",
       "    </tr>\n",
       "    <tr>\n",
       "      <th>14</th>\n",
       "      <td>15</td>\n",
       "      <td>MSI THIN 15 B12UCX 2280XCO CORE i7</td>\n",
       "      <td>12916210.0</td>\n",
       "    </tr>\n",
       "    <tr>\n",
       "      <th>15</th>\n",
       "      <td>16</td>\n",
       "      <td>ASUS VIVOBOOK</td>\n",
       "      <td>5423700.0</td>\n",
       "    </tr>\n",
       "    <tr>\n",
       "      <th>16</th>\n",
       "      <td>17</td>\n",
       "      <td>HP14 DQ5016LACORE i5</td>\n",
       "      <td>6918700.0</td>\n",
       "    </tr>\n",
       "    <tr>\n",
       "      <th>17</th>\n",
       "      <td>18</td>\n",
       "      <td>HP 15 DY5008LACORE i7</td>\n",
       "      <td>3423700.0</td>\n",
       "    </tr>\n",
       "    <tr>\n",
       "      <th>18</th>\n",
       "      <td>19</td>\n",
       "      <td>MSI THIN 15 B12UCX 2280XCO CORE i7</td>\n",
       "      <td>8228700.0</td>\n",
       "    </tr>\n",
       "    <tr>\n",
       "      <th>19</th>\n",
       "      <td>20</td>\n",
       "      <td>GIGABYTE G6X 9KG 2024 CORE i7</td>\n",
       "      <td>4423700.0</td>\n",
       "    </tr>\n",
       "  </tbody>\n",
       "</table>\n",
       "</div>"
      ],
      "text/plain": [
       "    product_id                          product_name  product_price\n",
       "0            1                     Portatil Acer 125      3200000.0\n",
       "1            2                     Portatil Azus X28      3499900.0\n",
       "2            3                     Portatil Acer 254      1568742.0\n",
       "3            4                      Portatil HP L587      2564789.0\n",
       "4            5                         MacBook 15PRO      2500000.0\n",
       "5            6                          MacBook 16XT      3859786.0\n",
       "6            7                  Impresora Canon 1245       897520.0\n",
       "7            8             Multifuncional Canon 1678      1564230.0\n",
       "8            9             Multifuncional Canon 4126      2864250.0\n",
       "9           10             Multifuncional Canon 1125      1416000.0\n",
       "10          11  PORTATIL ASUS VIVOBOOK X1504ZA NJ373      8423700.0\n",
       "11          12          GIGABYTE G6X 9KG 2024CORE i7      5478222.0\n",
       "12          13               LENOVO IP 3 14ALC6RYZ 3      3584875.0\n",
       "13          14          LENOVO IDEAPAD 1 15ALC7RYZ 5      8423700.0\n",
       "14          15    MSI THIN 15 B12UCX 2280XCO CORE i7     12916210.0\n",
       "15          16                         ASUS VIVOBOOK      5423700.0\n",
       "16          17                  HP14 DQ5016LACORE i5      6918700.0\n",
       "17          18                 HP 15 DY5008LACORE i7      3423700.0\n",
       "18          19    MSI THIN 15 B12UCX 2280XCO CORE i7      8228700.0\n",
       "19          20         GIGABYTE G6X 9KG 2024 CORE i7      4423700.0"
      ]
     },
     "execution_count": 17,
     "metadata": {},
     "output_type": "execute_result"
    }
   ],
   "source": [
    "vista_query = \"SELECT * FROM productos\"\n",
    "\n",
    "try:\n",
    "    result = pd.read_sql(vista_query,conn)\n",
    "except Exception as e:\n",
    "    print(f\"Error en el Query: {e}\")\n",
    "result\n"
   ]
  },
  {
   "cell_type": "markdown",
   "metadata": {},
   "source": [
    "### Forma 2"
   ]
  },
  {
   "cell_type": "code",
   "execution_count": null,
   "metadata": {},
   "outputs": [
    {
     "data": {
      "text/html": [
       "<div>\n",
       "<style scoped>\n",
       "    .dataframe tbody tr th:only-of-type {\n",
       "        vertical-align: middle;\n",
       "    }\n",
       "\n",
       "    .dataframe tbody tr th {\n",
       "        vertical-align: top;\n",
       "    }\n",
       "\n",
       "    .dataframe thead th {\n",
       "        text-align: right;\n",
       "    }\n",
       "</style>\n",
       "<table border=\"1\" class=\"dataframe\">\n",
       "  <thead>\n",
       "    <tr style=\"text-align: right;\">\n",
       "      <th></th>\n",
       "      <th>product_id</th>\n",
       "      <th>product_name</th>\n",
       "      <th>product_price</th>\n",
       "    </tr>\n",
       "  </thead>\n",
       "  <tbody>\n",
       "    <tr>\n",
       "      <th>0</th>\n",
       "      <td>1</td>\n",
       "      <td>Portatil Acer 125</td>\n",
       "      <td>3200000.0</td>\n",
       "    </tr>\n",
       "    <tr>\n",
       "      <th>1</th>\n",
       "      <td>2</td>\n",
       "      <td>Portatil Azus X28</td>\n",
       "      <td>3499900.0</td>\n",
       "    </tr>\n",
       "    <tr>\n",
       "      <th>2</th>\n",
       "      <td>3</td>\n",
       "      <td>Portatil Acer 254</td>\n",
       "      <td>1568742.0</td>\n",
       "    </tr>\n",
       "    <tr>\n",
       "      <th>3</th>\n",
       "      <td>4</td>\n",
       "      <td>Portatil HP L587</td>\n",
       "      <td>2564789.0</td>\n",
       "    </tr>\n",
       "    <tr>\n",
       "      <th>4</th>\n",
       "      <td>5</td>\n",
       "      <td>MacBook 15PRO</td>\n",
       "      <td>2500000.0</td>\n",
       "    </tr>\n",
       "    <tr>\n",
       "      <th>5</th>\n",
       "      <td>6</td>\n",
       "      <td>MacBook 16XT</td>\n",
       "      <td>3859786.0</td>\n",
       "    </tr>\n",
       "    <tr>\n",
       "      <th>6</th>\n",
       "      <td>7</td>\n",
       "      <td>Impresora Canon 1245</td>\n",
       "      <td>897520.0</td>\n",
       "    </tr>\n",
       "    <tr>\n",
       "      <th>7</th>\n",
       "      <td>8</td>\n",
       "      <td>Multifuncional Canon 1678</td>\n",
       "      <td>1564230.0</td>\n",
       "    </tr>\n",
       "    <tr>\n",
       "      <th>8</th>\n",
       "      <td>9</td>\n",
       "      <td>Multifuncional Canon 4126</td>\n",
       "      <td>2864250.0</td>\n",
       "    </tr>\n",
       "    <tr>\n",
       "      <th>9</th>\n",
       "      <td>10</td>\n",
       "      <td>Multifuncional Canon 1125</td>\n",
       "      <td>1416000.0</td>\n",
       "    </tr>\n",
       "    <tr>\n",
       "      <th>10</th>\n",
       "      <td>11</td>\n",
       "      <td>PORTATIL ASUS VIVOBOOK X1504ZA NJ373</td>\n",
       "      <td>8423700.0</td>\n",
       "    </tr>\n",
       "    <tr>\n",
       "      <th>11</th>\n",
       "      <td>12</td>\n",
       "      <td>GIGABYTE G6X 9KG 2024CORE i7</td>\n",
       "      <td>5478222.0</td>\n",
       "    </tr>\n",
       "    <tr>\n",
       "      <th>12</th>\n",
       "      <td>13</td>\n",
       "      <td>LENOVO IP 3 14ALC6RYZ 3</td>\n",
       "      <td>3584875.0</td>\n",
       "    </tr>\n",
       "    <tr>\n",
       "      <th>13</th>\n",
       "      <td>14</td>\n",
       "      <td>LENOVO IDEAPAD 1 15ALC7RYZ 5</td>\n",
       "      <td>8423700.0</td>\n",
       "    </tr>\n",
       "    <tr>\n",
       "      <th>14</th>\n",
       "      <td>15</td>\n",
       "      <td>MSI THIN 15 B12UCX 2280XCO CORE i7</td>\n",
       "      <td>12916210.0</td>\n",
       "    </tr>\n",
       "    <tr>\n",
       "      <th>15</th>\n",
       "      <td>16</td>\n",
       "      <td>ASUS VIVOBOOK</td>\n",
       "      <td>5423700.0</td>\n",
       "    </tr>\n",
       "    <tr>\n",
       "      <th>16</th>\n",
       "      <td>17</td>\n",
       "      <td>HP14 DQ5016LACORE i5</td>\n",
       "      <td>6918700.0</td>\n",
       "    </tr>\n",
       "    <tr>\n",
       "      <th>17</th>\n",
       "      <td>18</td>\n",
       "      <td>HP 15 DY5008LACORE i7</td>\n",
       "      <td>3423700.0</td>\n",
       "    </tr>\n",
       "    <tr>\n",
       "      <th>18</th>\n",
       "      <td>19</td>\n",
       "      <td>MSI THIN 15 B12UCX 2280XCO CORE i7</td>\n",
       "      <td>8228700.0</td>\n",
       "    </tr>\n",
       "    <tr>\n",
       "      <th>19</th>\n",
       "      <td>20</td>\n",
       "      <td>GIGABYTE G6X 9KG 2024 CORE i7</td>\n",
       "      <td>4423700.0</td>\n",
       "    </tr>\n",
       "  </tbody>\n",
       "</table>\n",
       "</div>"
      ],
      "text/plain": [
       "    product_id                          product_name  product_price\n",
       "0            1                     Portatil Acer 125      3200000.0\n",
       "1            2                     Portatil Azus X28      3499900.0\n",
       "2            3                     Portatil Acer 254      1568742.0\n",
       "3            4                      Portatil HP L587      2564789.0\n",
       "4            5                         MacBook 15PRO      2500000.0\n",
       "5            6                          MacBook 16XT      3859786.0\n",
       "6            7                  Impresora Canon 1245       897520.0\n",
       "7            8             Multifuncional Canon 1678      1564230.0\n",
       "8            9             Multifuncional Canon 4126      2864250.0\n",
       "9           10             Multifuncional Canon 1125      1416000.0\n",
       "10          11  PORTATIL ASUS VIVOBOOK X1504ZA NJ373      8423700.0\n",
       "11          12          GIGABYTE G6X 9KG 2024CORE i7      5478222.0\n",
       "12          13               LENOVO IP 3 14ALC6RYZ 3      3584875.0\n",
       "13          14          LENOVO IDEAPAD 1 15ALC7RYZ 5      8423700.0\n",
       "14          15    MSI THIN 15 B12UCX 2280XCO CORE i7     12916210.0\n",
       "15          16                         ASUS VIVOBOOK      5423700.0\n",
       "16          17                  HP14 DQ5016LACORE i5      6918700.0\n",
       "17          18                 HP 15 DY5008LACORE i7      3423700.0\n",
       "18          19    MSI THIN 15 B12UCX 2280XCO CORE i7      8228700.0\n",
       "19          20         GIGABYTE G6X 9KG 2024 CORE i7      4423700.0"
      ]
     },
     "execution_count": 20,
     "metadata": {},
     "output_type": "execute_result"
    }
   ],
   "source": [
    "try:\n",
    "    cursor.execute(vista_query)\n",
    "    rows = cursor.fetchall()\n",
    "\n",
    "    # Get column names from cursor.description (first element of each tuple)\n",
    "    columns = [desc[0] for desc in cursor.description]\n",
    "\n",
    "    # Convert rows to a format suitable for DataFrame (convert Decimal to float)\n",
    "    rows = [[float(value) if isinstance(value, float) else value for value in row] for row in rows]\n",
    "\n",
    "    # Convert the rows into a pandas DataFrame\n",
    "    df = pd.DataFrame(rows, columns=columns)\n",
    "except Exception as e:\n",
    "    print(f\"Error executing query: {e}\")\n",
    "\n",
    "df"
   ]
  },
  {
   "cell_type": "markdown",
   "metadata": {},
   "source": [
    "## Creación del FullText-Search"
   ]
  },
  {
   "cell_type": "markdown",
   "metadata": {},
   "source": [
    "### Creación del catálogo"
   ]
  },
  {
   "cell_type": "code",
   "execution_count": null,
   "metadata": {},
   "outputs": [],
   "source": [
    "create_catalog_query = \"CREATE FULLTEXT CATALOG catalago_productos AS DEFAULT\"\n",
    "\n",
    "try:\n",
    "    cursor.execute(create_catalog_query)\n",
    "    print(\"Catálogo creado con éxito\")\n",
    "except Exception as e:\n",
    "    print(f\"Error en el Query: {e}\")\n"
   ]
  },
  {
   "cell_type": "markdown",
   "metadata": {},
   "source": [
    "### Crear el índice del FTS"
   ]
  },
  {
   "cell_type": "code",
   "execution_count": 8,
   "metadata": {},
   "outputs": [
    {
     "name": "stdout",
     "output_type": "stream",
     "text": [
      "Índice FTS creado con éxito\n"
     ]
    }
   ],
   "source": [
    "create_index_query = \"\"\"\n",
    "                    CREATE FULLTEXT INDEX ON productos (product_name)\n",
    "                    KEY INDEX PK__producto__47027DF5B9DB6294\n",
    "                    WITH STOPLIST = SYSTEM;                 \n",
    "                    \"\"\"\n",
    "\n",
    "try:\n",
    "    cursor.execute(create_index_query)\n",
    "    print(\"Índice FTS creado con éxito\")\n",
    "except Exception as e:\n",
    "    print(f\"Error en el índice: {e}\")"
   ]
  },
  {
   "cell_type": "markdown",
   "metadata": {},
   "source": [
    "## Consultas de FTS"
   ]
  },
  {
   "cell_type": "markdown",
   "metadata": {},
   "source": [
    "### CONTAINS"
   ]
  },
  {
   "cell_type": "code",
   "execution_count": 34,
   "metadata": {},
   "outputs": [
    {
     "name": "stdout",
     "output_type": "stream",
     "text": [
      "(14, 'LENOVO IDEAPAD 1 15ALC7RYZ 5', 8423700.0)\n"
     ]
    }
   ],
   "source": [
    "contains_query = \"\"\"\n",
    "                SELECT * FROM productos\n",
    "                WHERE CONTAINS(product_name, 'ideapad')\n",
    "                \"\"\"\n",
    "\n",
    "try:\n",
    "    contains_result = cursor.execute(contains_query).fetchall()\n",
    "    for row in contains_result:\n",
    "        print(row)\n",
    "except Exception as e:\n",
    "    print(f\"Error en el CONTAINS: {e}\")"
   ]
  },
  {
   "cell_type": "markdown",
   "metadata": {},
   "source": [
    "### FREETEXT"
   ]
  },
  {
   "cell_type": "code",
   "execution_count": null,
   "metadata": {},
   "outputs": [
    {
     "name": "stdout",
     "output_type": "stream",
     "text": [
      "(1, 'Portatil Acer 125', 3200000.0)\n",
      "(2, 'Portatil Azus X28', 3499900.0)\n",
      "(3, 'Portatil Acer 254', 1568742.0)\n",
      "(4, 'Portatil HP L587', 2564789.0)\n",
      "(11, 'PORTATIL ASUS VIVOBOOK X1504ZA NJ373', 8423700.0)\n"
     ]
    }
   ],
   "source": [
    "freetext_query = \"\"\"\n",
    "                SELECT * FROM productos\n",
    "                WHERE FREETEXT(product_name, 'portatil multifuncional ')\n",
    "                \"\"\"\n",
    "\n",
    "try:\n",
    "    freetext_result = cursor.execute(freetext_query).fetchall()\n",
    "    for row in freetext_result:\n",
    "        print(row)\n",
    "except Exception as e:\n",
    "    print(f\"Error en el FREETEXT: {e}\")"
   ]
  },
  {
   "cell_type": "markdown",
   "metadata": {},
   "source": [
    "### Actualizar las estadísticas del FTS para dar mantenimiento"
   ]
  },
  {
   "cell_type": "code",
   "execution_count": 42,
   "metadata": {},
   "outputs": [
    {
     "name": "stdout",
     "output_type": "stream",
     "text": [
      "Estadísticas actualizadas con éxito\n"
     ]
    }
   ],
   "source": [
    "update_statistics_query = \"UPDATE STATISTICS productos WITH FULLSCAN\"\n",
    "try:\n",
    "    cursor.execute(update_statistics_query)\n",
    "    print(\"Estadísticas actualizadas con éxito\")\n",
    "except Exception as e:\n",
    "    print(f\"Error en la actualización de estadísticas: {e}\")\n"
   ]
  }
 ],
 "metadata": {
  "kernelspec": {
   "display_name": "Python 3",
   "language": "python",
   "name": "python3"
  },
  "language_info": {
   "codemirror_mode": {
    "name": "ipython",
    "version": 3
   },
   "file_extension": ".py",
   "mimetype": "text/x-python",
   "name": "python",
   "nbconvert_exporter": "python",
   "pygments_lexer": "ipython3",
   "version": "3.13.0"
  }
 },
 "nbformat": 4,
 "nbformat_minor": 2
}
