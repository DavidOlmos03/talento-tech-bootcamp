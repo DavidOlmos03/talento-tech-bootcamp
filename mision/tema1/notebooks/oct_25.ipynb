{
 "cells": [
  {
   "cell_type": "code",
   "execution_count": 2,
   "metadata": {},
   "outputs": [],
   "source": [
    "#Better comments use\n",
    "#! This is a commit\n",
    "#* This is a commit\n",
    "#? This is a commit\n",
    "#// This is a commit\n",
    "\n"
   ]
  },
  {
   "cell_type": "code",
   "execution_count": 3,
   "metadata": {},
   "outputs": [],
   "source": [
    "import pandas as pd"
   ]
  },
  {
   "cell_type": "code",
   "execution_count": 4,
   "metadata": {},
   "outputs": [
    {
     "name": "stdout",
     "output_type": "stream",
     "text": [
      "Min           2.00000\n",
      "Max          10.00000\n",
      "Media         6.50000\n",
      "Deviation     3.41565\n",
      "dtype: float64\n"
     ]
    }
   ],
   "source": [
    "# Write a function that \n",
    "\n",
    "notes = {\"Juan\":10, \"Sofia\":2,\"Diana\":8, \"Jean\":6}\n",
    "def notes_statistics(notes):\n",
    "    notes = pd.Series(notes)\n",
    "    statistics = pd.Series([notes.min(),notes.max(),notes.mean(),notes.std()],index = [\"Min\",\"Max\",\"Media\",\"Deviation\"])\n",
    "    return statistics\n",
    "\n",
    "print(notes_statistics(notes))"
   ]
  },
  {
   "cell_type": "markdown",
   "metadata": {},
   "source": [
    "To write in a program that ask to the user for the sales in a years and show by screen a series with the data indexed \n",
    "by years, before and after of applied a discount of 10%"
   ]
  },
  {
   "cell_type": "code",
   "execution_count": 5,
   "metadata": {},
   "outputs": [
    {
     "name": "stdout",
     "output_type": "stream",
     "text": [
      "Sales without discount\n",
      " 2023    2500.0\n",
      "2024    5000.0\n",
      "dtype: float64\n",
      "Sales with discount of 10% is:\n",
      " 2023    2250.0\n",
      "2024    4500.0\n",
      "dtype: float64\n"
     ]
    }
   ],
   "source": [
    "year_start = int(input(\"Sales start year:\"))\n",
    "year_end = int(input(\"Sales last year\"))\n",
    "\n",
    "sales = {}\n",
    "\n",
    "for x in range(year_start, year_end+1):\n",
    "    sales[x]=float(input(\"sales by year\"+ str(x)+\": \"))\n",
    "\n",
    "sales = pd.Series(sales)\n",
    "\n",
    "print(\"Sales without discount\\n\", sales)\n",
    "print(\"Sales with discount of 10% is:\\n\", sales*0.9)\n"
   ]
  },
  {
   "cell_type": "code",
   "execution_count": 16,
   "metadata": {},
   "outputs": [
    {
     "data": {
      "text/plain": [
       "Juan     10\n",
       "Diana     8\n",
       "Jean      6\n",
       "dtype: int64"
      ]
     },
     "execution_count": 16,
     "metadata": {},
     "output_type": "execute_result"
    }
   ],
   "source": [
    "# Write a function ...\n",
    "notes = {\"Juan\":10, \"Sofia\":2,\"Diana\":8, \"Jean\":6}\n",
    "list = []\n",
    "def approved_students(notes):\n",
    "    notes = pd.Series(notes)\n",
    "    return notes[notes>=5].sort_values(ascending = False)\n",
    "\n",
    "approved_students(notes)"
   ]
  }
 ],
 "metadata": {
  "kernelspec": {
   "display_name": ".venv",
   "language": "python",
   "name": "python3"
  },
  "language_info": {
   "codemirror_mode": {
    "name": "ipython",
    "version": 3
   },
   "file_extension": ".py",
   "mimetype": "text/x-python",
   "name": "python",
   "nbconvert_exporter": "python",
   "pygments_lexer": "ipython3",
   "version": "3.12.3"
  }
 },
 "nbformat": 4,
 "nbformat_minor": 2
}
